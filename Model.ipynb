{
 "cells": [
  {
   "cell_type": "markdown",
   "metadata": {},
   "source": [
    "# Toxic Comment Classification\n",
    "By- Abhinav Singh"
   ]
  },
  {
   "cell_type": "code",
   "execution_count": 1,
   "metadata": {},
   "outputs": [],
   "source": [
    "import pandas as pd\n",
    "import numpy as np\n",
    "from sklearn.feature_extraction.text import TfidfVectorizer\n",
    "from sklearn.linear_model import LogisticRegression\n",
    "from sklearn.metrics import log_loss,confusion_matrix,classification_report,roc_curve,auc\n",
    "import pickle"
   ]
  },
  {
   "cell_type": "markdown",
   "metadata": {},
   "source": [
    "# Reading data"
   ]
  },
  {
   "cell_type": "code",
   "execution_count": 2,
   "metadata": {},
   "outputs": [],
   "source": [
    "train = pd.read_csv('train.csv')\n",
    "test=pd.read_csv('test.csv')\n",
    "target_col = ['toxic', 'severe_toxic', 'obscene', 'threat','insult', 'identity_hate']"
   ]
  },
  {
   "cell_type": "markdown",
   "metadata": {},
   "source": [
    "# Preprocessing data"
   ]
  },
  {
   "cell_type": "code",
   "execution_count": 3,
   "metadata": {},
   "outputs": [],
   "source": [
    "v = TfidfVectorizer()"
   ]
  },
  {
   "cell_type": "code",
   "execution_count": 4,
   "metadata": {},
   "outputs": [],
   "source": [
    "X_train = v.fit_transform(train['comment_text'])\n",
    "X_test = v.transform(test['comment_text'])"
   ]
  },
  {
   "cell_type": "markdown",
   "metadata": {},
   "source": [
    "# Model"
   ]
  },
  {
   "cell_type": "code",
   "execution_count": 5,
   "metadata": {},
   "outputs": [],
   "source": [
    "model=[]\n",
    "i=0\n",
    "for label in ['toxic', 'severe_toxic', 'obscene', 'threat', 'insult', 'identity_hate']:\n",
    "    y = train[label]\n",
    "    model.append(LogisticRegression(solver='sag'))\n",
    "    model[i].fit(X_train, y)\n",
    "    i=i+1"
   ]
  },
  {
   "cell_type": "markdown",
   "metadata": {},
   "source": [
    "# Accuracy"
   ]
  },
  {
   "cell_type": "code",
   "execution_count": 6,
   "metadata": {},
   "outputs": [
    {
     "name": "stdout",
     "output_type": "stream",
     "text": [
      "Column: toxic\n",
      "0.9846257374488241\n",
      "Column: severe_toxic\n",
      "0.9912898459398537\n",
      "Column: obscene\n",
      "0.9924466685644607\n",
      "Column: threat\n",
      "0.9955123022567232\n",
      "Column: insult\n",
      "0.9873642707435689\n",
      "Column: identity_hate\n",
      "0.9895494093934284\n"
     ]
    }
   ],
   "source": [
    "y=train[target_col]\n",
    "i=0\n",
    "for col in target_col:\n",
    "    print(\"Column:\",col)\n",
    "    pred_pro = model[i].predict_proba(X_train)[:,1]\n",
    "    frp,trp,thres = roc_curve(y[col],pred_pro)\n",
    "    auc_val =auc(frp,trp)\n",
    "    print(auc_val)\n",
    "    i=i+1"
   ]
  },
  {
   "cell_type": "code",
   "execution_count": 7,
   "metadata": {},
   "outputs": [
    {
     "data": {
      "text/html": [
       "<div>\n",
       "<style scoped>\n",
       "    .dataframe tbody tr th:only-of-type {\n",
       "        vertical-align: middle;\n",
       "    }\n",
       "\n",
       "    .dataframe tbody tr th {\n",
       "        vertical-align: top;\n",
       "    }\n",
       "\n",
       "    .dataframe thead th {\n",
       "        text-align: right;\n",
       "    }\n",
       "</style>\n",
       "<table border=\"1\" class=\"dataframe\">\n",
       "  <thead>\n",
       "    <tr style=\"text-align: right;\">\n",
       "      <th></th>\n",
       "      <th>id</th>\n",
       "      <th>comment_text</th>\n",
       "      <th>toxic</th>\n",
       "      <th>severe_toxic</th>\n",
       "      <th>obscene</th>\n",
       "      <th>threat</th>\n",
       "      <th>insult</th>\n",
       "      <th>identity_hate</th>\n",
       "    </tr>\n",
       "  </thead>\n",
       "  <tbody>\n",
       "    <tr>\n",
       "      <th>0</th>\n",
       "      <td>00001cee341fdb12</td>\n",
       "      <td>Yo bitch Ja Rule is more succesful then you'll...</td>\n",
       "      <td>0.998338</td>\n",
       "      <td>0.180634</td>\n",
       "      <td>0.994831</td>\n",
       "      <td>0.046667</td>\n",
       "      <td>0.961525</td>\n",
       "      <td>0.282623</td>\n",
       "    </tr>\n",
       "    <tr>\n",
       "      <th>1</th>\n",
       "      <td>0000247867823ef7</td>\n",
       "      <td>== From RfC == \\n\\n The title is fine as it is...</td>\n",
       "      <td>0.006603</td>\n",
       "      <td>0.001559</td>\n",
       "      <td>0.004004</td>\n",
       "      <td>0.000423</td>\n",
       "      <td>0.005722</td>\n",
       "      <td>0.003052</td>\n",
       "    </tr>\n",
       "    <tr>\n",
       "      <th>2</th>\n",
       "      <td>00013b17ad220c46</td>\n",
       "      <td>\" \\n\\n == Sources == \\n\\n * Zawe Ashton on Lap...</td>\n",
       "      <td>0.042325</td>\n",
       "      <td>0.006283</td>\n",
       "      <td>0.020710</td>\n",
       "      <td>0.001879</td>\n",
       "      <td>0.023333</td>\n",
       "      <td>0.006021</td>\n",
       "    </tr>\n",
       "    <tr>\n",
       "      <th>3</th>\n",
       "      <td>00017563c3f7919a</td>\n",
       "      <td>:If you have a look back at the source, the in...</td>\n",
       "      <td>0.003177</td>\n",
       "      <td>0.001640</td>\n",
       "      <td>0.003103</td>\n",
       "      <td>0.001037</td>\n",
       "      <td>0.003710</td>\n",
       "      <td>0.000932</td>\n",
       "    </tr>\n",
       "    <tr>\n",
       "      <th>4</th>\n",
       "      <td>00017695ad8997eb</td>\n",
       "      <td>I don't anonymously edit articles at all.</td>\n",
       "      <td>0.034338</td>\n",
       "      <td>0.003960</td>\n",
       "      <td>0.011135</td>\n",
       "      <td>0.001650</td>\n",
       "      <td>0.011538</td>\n",
       "      <td>0.003559</td>\n",
       "    </tr>\n",
       "    <tr>\n",
       "      <th>...</th>\n",
       "      <td>...</td>\n",
       "      <td>...</td>\n",
       "      <td>...</td>\n",
       "      <td>...</td>\n",
       "      <td>...</td>\n",
       "      <td>...</td>\n",
       "      <td>...</td>\n",
       "      <td>...</td>\n",
       "    </tr>\n",
       "    <tr>\n",
       "      <th>153159</th>\n",
       "      <td>fffcd0960ee309b5</td>\n",
       "      <td>. \\n i totally agree, this stuff is nothing bu...</td>\n",
       "      <td>0.748430</td>\n",
       "      <td>0.004211</td>\n",
       "      <td>0.200183</td>\n",
       "      <td>0.001222</td>\n",
       "      <td>0.064759</td>\n",
       "      <td>0.008091</td>\n",
       "    </tr>\n",
       "    <tr>\n",
       "      <th>153160</th>\n",
       "      <td>fffd7a9a6eb32c16</td>\n",
       "      <td>== Throw from out field to home plate. == \\n\\n...</td>\n",
       "      <td>0.062104</td>\n",
       "      <td>0.003707</td>\n",
       "      <td>0.029518</td>\n",
       "      <td>0.002675</td>\n",
       "      <td>0.021569</td>\n",
       "      <td>0.010583</td>\n",
       "    </tr>\n",
       "    <tr>\n",
       "      <th>153161</th>\n",
       "      <td>fffda9e8d6fafa9e</td>\n",
       "      <td>\" \\n\\n == Okinotorishima categories == \\n\\n I ...</td>\n",
       "      <td>0.006044</td>\n",
       "      <td>0.001429</td>\n",
       "      <td>0.005586</td>\n",
       "      <td>0.000725</td>\n",
       "      <td>0.004372</td>\n",
       "      <td>0.001835</td>\n",
       "    </tr>\n",
       "    <tr>\n",
       "      <th>153162</th>\n",
       "      <td>fffe8f1340a79fc2</td>\n",
       "      <td>\" \\n\\n == \"\"One of the founding nations of the...</td>\n",
       "      <td>0.022944</td>\n",
       "      <td>0.001463</td>\n",
       "      <td>0.011125</td>\n",
       "      <td>0.000926</td>\n",
       "      <td>0.011432</td>\n",
       "      <td>0.008941</td>\n",
       "    </tr>\n",
       "    <tr>\n",
       "      <th>153163</th>\n",
       "      <td>ffffce3fb183ee80</td>\n",
       "      <td>\" \\n :::Stop already. Your bullshit is not wel...</td>\n",
       "      <td>0.947314</td>\n",
       "      <td>0.003309</td>\n",
       "      <td>0.625767</td>\n",
       "      <td>0.003922</td>\n",
       "      <td>0.357383</td>\n",
       "      <td>0.012035</td>\n",
       "    </tr>\n",
       "  </tbody>\n",
       "</table>\n",
       "<p>153164 rows × 8 columns</p>\n",
       "</div>"
      ],
      "text/plain": [
       "                      id                                       comment_text  \\\n",
       "0       00001cee341fdb12  Yo bitch Ja Rule is more succesful then you'll...   \n",
       "1       0000247867823ef7  == From RfC == \\n\\n The title is fine as it is...   \n",
       "2       00013b17ad220c46  \" \\n\\n == Sources == \\n\\n * Zawe Ashton on Lap...   \n",
       "3       00017563c3f7919a  :If you have a look back at the source, the in...   \n",
       "4       00017695ad8997eb          I don't anonymously edit articles at all.   \n",
       "...                  ...                                                ...   \n",
       "153159  fffcd0960ee309b5  . \\n i totally agree, this stuff is nothing bu...   \n",
       "153160  fffd7a9a6eb32c16  == Throw from out field to home plate. == \\n\\n...   \n",
       "153161  fffda9e8d6fafa9e  \" \\n\\n == Okinotorishima categories == \\n\\n I ...   \n",
       "153162  fffe8f1340a79fc2  \" \\n\\n == \"\"One of the founding nations of the...   \n",
       "153163  ffffce3fb183ee80  \" \\n :::Stop already. Your bullshit is not wel...   \n",
       "\n",
       "           toxic  severe_toxic   obscene    threat    insult  identity_hate  \n",
       "0       0.998338      0.180634  0.994831  0.046667  0.961525       0.282623  \n",
       "1       0.006603      0.001559  0.004004  0.000423  0.005722       0.003052  \n",
       "2       0.042325      0.006283  0.020710  0.001879  0.023333       0.006021  \n",
       "3       0.003177      0.001640  0.003103  0.001037  0.003710       0.000932  \n",
       "4       0.034338      0.003960  0.011135  0.001650  0.011538       0.003559  \n",
       "...          ...           ...       ...       ...       ...            ...  \n",
       "153159  0.748430      0.004211  0.200183  0.001222  0.064759       0.008091  \n",
       "153160  0.062104      0.003707  0.029518  0.002675  0.021569       0.010583  \n",
       "153161  0.006044      0.001429  0.005586  0.000725  0.004372       0.001835  \n",
       "153162  0.022944      0.001463  0.011125  0.000926  0.011432       0.008941  \n",
       "153163  0.947314      0.003309  0.625767  0.003922  0.357383       0.012035  \n",
       "\n",
       "[153164 rows x 8 columns]"
      ]
     },
     "execution_count": 7,
     "metadata": {},
     "output_type": "execute_result"
    }
   ],
   "source": [
    "i=0\n",
    "for col in target_col:\n",
    "    test[col]=model[i].predict_proba(X_test)[:, 1]\n",
    "    i=i+1\n",
    "test"
   ]
  },
  {
   "cell_type": "markdown",
   "metadata": {},
   "source": [
    "# Pickle file generation"
   ]
  },
  {
   "cell_type": "code",
   "execution_count": 8,
   "metadata": {},
   "outputs": [],
   "source": [
    "f=open(\"final_model.pkl\", \"wb\")\n",
    "pickle.dump(model,f)\n",
    "pickle.dump(v,f)"
   ]
  },
  {
   "cell_type": "code",
   "execution_count": null,
   "metadata": {},
   "outputs": [],
   "source": []
  }
 ],
 "metadata": {
  "kernelspec": {
   "display_name": "Python 3",
   "language": "python",
   "name": "python3"
  },
  "language_info": {
   "codemirror_mode": {
    "name": "ipython",
    "version": 3
   },
   "file_extension": ".py",
   "mimetype": "text/x-python",
   "name": "python",
   "nbconvert_exporter": "python",
   "pygments_lexer": "ipython3",
   "version": "3.8.3"
  }
 },
 "nbformat": 4,
 "nbformat_minor": 4
}
